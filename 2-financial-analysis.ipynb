{
 "cells": [
  {
   "cell_type": "code",
   "execution_count": 15,
   "metadata": {},
   "outputs": [
    {
     "name": "stdout",
     "output_type": "stream",
     "text": [
      "[1766, 1338, -2595, -2040, -420, 5086, 5747, 2761, 2330, -1567, 462, 8141]\n",
      "8141\n",
      "-2595\n"
     ]
    }
   ],
   "source": [
    "import numpy as np\n",
    "\n",
    "\n",
    "revenue = [14574.49, 7606.46, 8611.41, 9175.41, 8058.65, 8105.44, 11496.28, 9766.09, 10305.32, 14379.96, 10713.97, 15433.50]\n",
    "expenses = [12051.82, 5695.07, 12319.20, 12089.72, 8658.57, 840.20, 3285.73, 5821.12, 6976.93, 16618.61, 10054.37, 3803.96]\n",
    "months = len(revenue)\n",
    "\n",
    "\n",
    "# 1. Profit for each month\n",
    "\n",
    "untaxed_profits = []\n",
    "for i in range(months):\n",
    "    untaxed_profits.append(round(revenue[i] - expenses[i]))\n",
    "    \n",
    "# print(untaxed_profits)\n",
    "\n",
    "\n",
    "\n",
    "# 2. Profit after-tax for each month (tax rate is 30%)\n",
    "\n",
    "profits = []\n",
    "for i in range(months):\n",
    "    untaxed = revenue[i] - expenses[i]\n",
    "    profit = round(untaxed - (untaxed * .3))\n",
    "    profits.append(round(profit))\n",
    "    \n",
    "# print(profits)\n",
    "\n",
    "\n",
    "\n",
    "# 3. Profit margin for each month = (profit after-tax) / revenue\n",
    "\n",
    "profit_margins = []\n",
    "for i in range(months):\n",
    "    profit_margins.append(round(profits[i] / round(revenue[i]), 2))\n",
    "    \n",
    "# print(profit_margins)\n",
    "    \n",
    "\n",
    "    \n",
    "    \n",
    "# 4. Good months - where profit after-tax was better than average (or mean)\n",
    "\n",
    "mean = round(np.mean(profits))\n",
    "\n",
    "good_months = []\n",
    "for i in range(months): \n",
    "    if profits[i] > mean:\n",
    "        good_months.append(profits[i])\n",
    "\n",
    "# print(good_months)\n",
    "\n",
    "\n",
    "\n",
    "# 5. Bad months - where profit after-tax was worse than average (mean)\n",
    "\n",
    "bad_months = []\n",
    "for i in range(months):\n",
    "    if profits[i] < mean:\n",
    "        bad_months.append(profits[i])\n",
    "\n",
    "# print(bad_months)\n",
    "\n",
    "\n",
    "\n",
    "\n",
    "# 6. The best month\n",
    "\n",
    "# print(max(good_months))\n",
    "\n",
    "\n",
    "\n",
    "\n",
    "# 7. The worst month\n",
    "\n",
    "# print(min(bad_months))"
   ]
  },
  {
   "cell_type": "code",
   "execution_count": null,
   "metadata": {},
   "outputs": [],
   "source": []
  }
 ],
 "metadata": {
  "kernelspec": {
   "display_name": "Python 3",
   "language": "python",
   "name": "python3"
  },
  "language_info": {
   "codemirror_mode": {
    "name": "ipython",
    "version": 3
   },
   "file_extension": ".py",
   "mimetype": "text/x-python",
   "name": "python",
   "nbconvert_exporter": "python",
   "pygments_lexer": "ipython3",
   "version": "3.7.6"
  }
 },
 "nbformat": 4,
 "nbformat_minor": 1
}
