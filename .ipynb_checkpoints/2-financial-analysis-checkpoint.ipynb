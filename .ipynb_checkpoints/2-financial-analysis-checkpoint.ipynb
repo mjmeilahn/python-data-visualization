{
 "cells": [
  {
   "cell_type": "code",
   "execution_count": 8,
   "metadata": {},
   "outputs": [],
   "source": [
    "revenue = [14574.49, 7606.46, 8611.41, 9175.41, 8058.65, 8105.44, 11496.28, 9766.09, 10305.32, 14379.96, 10713.97, 15433.50]\n",
    "expenses = [12051.82, 5695.07, 12319.20, 12089.72, 8658.57, 840.20, 3285.73, 5821.12, 6976.93, 16618.61, 10054.37, 3803.96]\n",
    "\n",
    "\n",
    "# Each assignment will be returned as a list\n",
    "\n",
    "\n",
    "# 1. Profit for each month\n",
    "# create a list that subtracts expenses from revenue\n",
    "\n",
    "untaxed_profits = []\n",
    "for i in range(11):\n",
    "    untaxed_profits.append(round(revenue[i] - expenses[i], 2))\n",
    "    \n",
    "# print(untaxed_profits)\n",
    "\n",
    "\n",
    "\n",
    "# 2. Profit after-tax for each month (tax rate is 30%)\n",
    "# use previous list (#1) with tax rate\n",
    "\n",
    "# 3. Profit margin for each month = (profit after-tax) / revenue\n",
    "# use previous list (#2)\n",
    "\n",
    "# 4. Good months - where profit after-tax was better than average (or mean)\n",
    "# calculate mean (or average) then reference list from #2\n",
    "\n",
    "# 5. Bad months - where profit after-tax was worse than average (mean)\n",
    "# use previous mean (or average) then reference list from #2\n",
    "\n",
    "# 6. The best month\n",
    "# use previous list (#2)\n",
    "\n",
    "# 7. The worst month\n",
    "# use previous list (#2)"
   ]
  },
  {
   "cell_type": "code",
   "execution_count": null,
   "metadata": {},
   "outputs": [],
   "source": []
  }
 ],
 "metadata": {
  "kernelspec": {
   "display_name": "Python 3",
   "language": "python",
   "name": "python3"
  },
  "language_info": {
   "codemirror_mode": {
    "name": "ipython",
    "version": 3
   },
   "file_extension": ".py",
   "mimetype": "text/x-python",
   "name": "python",
   "nbconvert_exporter": "python",
   "pygments_lexer": "ipython3",
   "version": "3.7.3"
  }
 },
 "nbformat": 4,
 "nbformat_minor": 1
}
